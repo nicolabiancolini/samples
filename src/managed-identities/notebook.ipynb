{
 "cells": [
  {
   "cell_type": "code",
   "execution_count": null,
   "metadata": {
    "dotnet_interactive": {
     "language": "csharp"
    },
    "vscode": {
     "languageId": "dotnet-interactive.csharp"
    }
   },
   "outputs": [],
   "source": [
    "#r \"nuget: Azure.Identity, 1.5.0\"\n",
    "#r \"nuget: Microsoft.EntityFrameworkCore.SqlServer, 6.0.1\""
   ]
  },
  {
   "cell_type": "code",
   "execution_count": null,
   "metadata": {
    "dotnet_interactive": {
     "language": "csharp"
    },
    "vscode": {
     "languageId": "dotnet-interactive.csharp"
    }
   },
   "outputs": [],
   "source": [
    "using Azure.Core;\n",
    "using Azure.Identity;\n",
    "using System.Collections.Generic;\n",
    "using System.Data;\n",
    "using System.Data.Common;\n",
    "using System.Threading;\n",
    "using Microsoft.Data.SqlClient;\n",
    "using Microsoft.EntityFrameworkCore;\n",
    "using Microsoft.EntityFrameworkCore.Diagnostics;"
   ]
  },
  {
   "cell_type": "code",
   "execution_count": null,
   "metadata": {
    "dotnet_interactive": {
     "language": "csharp"
    },
    "vscode": {
     "languageId": "dotnet-interactive.csharp"
    }
   },
   "outputs": [],
   "source": [
    "var connectionString = \"server=<YOUR_SQL_SERVER>;database=<YOUR_SQL_DATABASE>;\";"
   ]
  },
  {
   "cell_type": "code",
   "execution_count": null,
   "metadata": {
    "dotnet_interactive": {
     "language": "csharp"
    },
    "vscode": {
     "languageId": "dotnet-interactive.csharp"
    }
   },
   "outputs": [],
   "source": [
    "var errorMessage = string.Empty;\n",
    "if (connectionString.Contains(\"<YOUR_SQL_SERVER>\") && connectionString.Contains(\"<YOUR_SQL_DATABASE>\"))\n",
    "{\n",
    "    errorMessage = \"I hope there isn't a server called \\\"<YOUR_SQL_SERVER>\\\" and a database \\\"<YOUR_SQL_DATABASE>\\\"\";\n",
    "}\n",
    "else if (connectionString.Contains(\"<YOUR_SQL_SERVER>\"))\n",
    "{\n",
    "    errorMessage = \"I hope there isn't a server called \\\"<YOUR_SQL_SERVER>\\\"\";\n",
    "}\n",
    "else if (connectionString.Contains(\"<YOUR_SQL_DATABASE>\"))\n",
    "{\n",
    "    errorMessage = \"I hope there isn't a database called \\\"<YOUR_SQL_DATABASE>\\\"\";\n",
    "}"
   ]
  },
  {
   "cell_type": "code",
   "execution_count": null,
   "metadata": {
    "dotnet_interactive": {
     "language": "csharp"
    },
    "vscode": {
     "languageId": "dotnet-interactive.csharp"
    }
   },
   "outputs": [],
   "source": [
    "var credential = new DefaultAzureCredential();"
   ]
  },
  {
   "cell_type": "code",
   "execution_count": null,
   "metadata": {
    "dotnet_interactive": {
     "language": "csharp"
    },
    "vscode": {
     "languageId": "dotnet-interactive.csharp"
    }
   },
   "outputs": [],
   "source": [
    "public class SetiContext : DbContext\n",
    "{\n",
    "    private DbSet<TrickyDateTime> trickyDateTimes;\n",
    "\n",
    "    public SetiContext(DbContextOptions options)\n",
    "        : base(options)\n",
    "    {\n",
    "        this.trickyDateTimes = this.Set<TrickyDateTime>();\n",
    "    }\n",
    "\n",
    "    public async Task<DateTime> GetTrickyDateTimeUtcNowAsync(CancellationToken cancellationToken = default) \n",
    "    {\n",
    "        return (await this.trickyDateTimes.FromSqlRaw(\"SELECT GETUTCDATE() AS [UtcNow]\").SingleAsync(cancellationToken)).UtcNow;\n",
    "    }\n",
    "\n",
    "    protected override void OnModelCreating(ModelBuilder builder)\n",
    "    {\n",
    "        builder.Entity<TrickyDateTime>()\n",
    "            .HasNoKey();\n",
    "    }\n",
    "}\n",
    "\n",
    "public class TrickyDateTime\n",
    "{\n",
    "    public DateTime UtcNow { get; set; }\n",
    "}\n",
    "\n",
    "public class AadAuthenticationInterceptor : DbConnectionInterceptor\n",
    "{\n",
    "    private TokenCredential credential;\n",
    "    private TokenRequestContext requestContext;\n",
    "    \n",
    "    public AadAuthenticationInterceptor(TokenCredential credential)\n",
    "    {\n",
    "        this.credential = credential;\n",
    "        this.requestContext = new TokenRequestContext(new []{ \"https://database.windows.net/.default\" });\n",
    "    }\n",
    "\n",
    "    public override InterceptionResult ConnectionOpening(DbConnection connection, ConnectionEventData eventData, InterceptionResult result)\n",
    "    {\n",
    "        if (connection.State.Equals(ConnectionState.Closed))\n",
    "        {\n",
    "            this.InternalConnectionOpening(connection, this.credential.GetToken(this.requestContext, default));\n",
    "        }\n",
    "\n",
    "        return result;\n",
    "    }\n",
    "\n",
    "    public override async ValueTask<InterceptionResult> ConnectionOpeningAsync(DbConnection connection, ConnectionEventData eventData, InterceptionResult result, CancellationToken cancellationToken = default)\n",
    "    {\n",
    "        if (connection.State.Equals(ConnectionState.Closed))\n",
    "        {   \n",
    "            this.InternalConnectionOpening(connection, await this.credential.GetTokenAsync(this.requestContext, cancellationToken));\n",
    "        }\n",
    "        return result;\n",
    "    }\n",
    "\n",
    "    private void InternalConnectionOpening(DbConnection connection, AccessToken accessToken)\n",
    "    {\n",
    "        var sqlConnection = (SqlConnection)connection;\n",
    "        sqlConnection.AccessToken = accessToken.Token;\n",
    "    } \n",
    "}"
   ]
  },
  {
   "cell_type": "code",
   "execution_count": null,
   "metadata": {
    "dotnet_interactive": {
     "language": "csharp"
    },
    "vscode": {
     "languageId": "dotnet-interactive.csharp"
    }
   },
   "outputs": [],
   "source": [
    "if(string.IsNullOrEmpty(errorMessage))\n",
    "{\n",
    "    Console.Out.WriteLine(await new SetiContext(new DbContextOptionsBuilder()\n",
    "        .UseSqlServer(connectionString)\n",
    "        .AddInterceptors(new AadAuthenticationInterceptor(credential)).Options).GetTrickyDateTimeUtcNowAsync());\n",
    "}\n",
    "else \n",
    "{\n",
    "    Console.Error.WriteLine(errorMessage);\n",
    "}"
   ]
  }
 ],
 "metadata": {
  "kernelspec": {
   "display_name": ".NET (C#)",
   "language": "C#",
   "name": ".net-csharp"
  },
  "language_info": {
   "file_extension": ".cs",
   "mimetype": "text/x-csharp",
   "name": "C#",
   "pygments_lexer": "csharp",
   "version": "9.0"
  },
  "orig_nbformat": 4
 },
 "nbformat": 4,
 "nbformat_minor": 2
}
