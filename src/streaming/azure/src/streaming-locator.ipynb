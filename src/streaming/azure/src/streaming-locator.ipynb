{
 "cells": [
  {
   "cell_type": "code",
   "execution_count": null,
   "metadata": {
    "dotnet_interactive": {
     "language": "csharp"
    },
    "vscode": {
     "languageId": "dotnet-interactive.csharp"
    }
   },
   "outputs": [],
   "source": [
    "#r \"nuget: Azure.Identity, 1.7.0\"\n",
    "#r \"nuget: Microsoft.Azure.Management.Media, 6.0.0\""
   ]
  },
  {
   "cell_type": "code",
   "execution_count": null,
   "metadata": {
    "dotnet_interactive": {
     "language": "csharp"
    },
    "vscode": {
     "languageId": "dotnet-interactive.csharp"
    }
   },
   "outputs": [],
   "source": [
    "using Azure.Core;\n",
    "using Azure.Identity;\n",
    "using Microsoft.Azure.Management.Media;\n",
    "using Microsoft.Azure.Management.Media.Models;\n",
    "using Microsoft.Rest;\n",
    "using System.Collections.ObjectModel;"
   ]
  },
  {
   "cell_type": "code",
   "execution_count": null,
   "metadata": {
    "dotnet_interactive": {
     "language": "csharp"
    },
    "vscode": {
     "languageId": "dotnet-interactive.csharp"
    }
   },
   "outputs": [],
   "source": [
    "var configuration = new \n",
    "{\n",
    "    SubscriptionId = Environment.GetEnvironmentVariable(\"SubscriptionId\"),\n",
    "    ResourceGroupName = \"rg-improove-course-management\",\n",
    "    AccountName = \"mediavdavmal\",\n",
    "};"
   ]
  },
  {
   "cell_type": "code",
   "execution_count": null,
   "metadata": {
    "dotnet_interactive": {
     "language": "csharp"
    },
    "vscode": {
     "languageId": "dotnet-interactive.csharp"
    }
   },
   "outputs": [],
   "source": [
    "var authToken = await new DefaultAzureCredential().GetTokenAsync(new TokenRequestContext(new []{ \"https://management.core.windows.net/.default\"}));\n",
    "var client = new AzureMediaServicesClient(new Uri(\"https://management.azure.com/\"), (ServiceClientCredentials)new Microsoft.Rest.TokenCredentials(authToken.Token, \"Bearer\"))\n",
    "{\n",
    "    SubscriptionId = configuration.SubscriptionId\n",
    "};"
   ]
  },
  {
   "cell_type": "code",
   "execution_count": null,
   "metadata": {
    "dotnet_interactive": {
     "language": "csharp"
    },
    "vscode": {
     "languageId": "dotnet-interactive.csharp"
    }
   },
   "outputs": [],
   "source": [
    "\n",
    "var locator = await client.StreamingLocators.CreateAsync(\n",
    "    resourceGroupName: configuration.ResourceGroupName,\n",
    "    accountName: configuration.AccountName,\n",
    "    streamingLocatorName: Guid.NewGuid().ToString(\"N\"),\n",
    "    new StreamingLocator\n",
    "    {\n",
    "        AssetName = Environment.GetEnvironmentVariable(\"StreamingLocator_AssetName\"),\n",
    "        StreamingPolicyName = PredefinedStreamingPolicy.ClearStreamingOnly\n",
    "    }\n",
    ");\n"
   ]
  },
  {
   "cell_type": "code",
   "execution_count": null,
   "metadata": {
    "dotnet_interactive": {
     "language": "csharp"
    },
    "vscode": {
     "languageId": "dotnet-interactive.csharp"
    }
   },
   "outputs": [],
   "source": [
    "var streamingUriCollection = new Collection<Uri>();\n",
    "\n",
    "var endpoint = await client.StreamingEndpoints.GetAsync(configuration.ResourceGroupName, configuration.AccountName, \"default\");\n",
    "if (endpoint.ResourceState != StreamingEndpointResourceState.Running)\n",
    "{\n",
    "    await client.StreamingEndpoints.StartAsync(configuration.ResourceGroupName, configuration.AccountName, \"default\");\n",
    "}\n",
    "var paths = await client.StreamingLocators.ListPathsAsync(configuration.ResourceGroupName, configuration.AccountName, locator.Name);\n",
    "\n",
    "foreach (var path in paths.StreamingPaths)\n",
    "{\n",
    "    var builder = new UriBuilder\n",
    "    {\n",
    "        Scheme = \"https\",\n",
    "        Host = endpoint.HostName,\n",
    "\n",
    "        Path = path.Paths[0]\n",
    "    };\n",
    "    streamingUriCollection.Add(builder.Uri);\n",
    "}"
   ]
  },
  {
   "cell_type": "code",
   "execution_count": null,
   "metadata": {
    "dotnet_interactive": {
     "language": "csharp"
    },
    "vscode": {
     "languageId": "dotnet-interactive.csharp"
    }
   },
   "outputs": [],
   "source": [
    "foreach (var uri in streamingUriCollection) \n",
    "{\n",
    "    Console.WriteLine(uri);\n",
    "}"
   ]
  }
 ],
 "metadata": {
  "kernelspec": {
   "display_name": ".NET (C#)",
   "language": "C#",
   "name": ".net-csharp"
  },
  "language_info": {
   "name": "C#"
  }
 },
 "nbformat": 4,
 "nbformat_minor": 2
}
